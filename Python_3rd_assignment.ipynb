{
  "nbformat": 4,
  "nbformat_minor": 0,
  "metadata": {
    "colab": {
      "provenance": []
    },
    "kernelspec": {
      "name": "python3",
      "display_name": "Python 3"
    },
    "language_info": {
      "name": "python"
    }
  },
  "cells": [
    {
      "cell_type": "markdown",
      "source": [
        "# Theory Questions:\n",
        "\n",
        "1. What is the difference between a function and a method in Python?\n",
        "\n",
        "-> A function is a block of reusable code that can be called by its name. It's an independent entity that can be defined anywhere in a Python script, outside of a class. Functions take arguments and return a value (or None by default).\n",
        "\n",
        "Example:\n",
        "# Function example\n",
        "\n",
        "def greet(name):\n",
        "\n",
        "return f\"Hello, {name}!\"\n",
        "\n",
        "print(greet(\"Ritesh\")) # Calling a function directly\n",
        "\n",
        "# Output: Hello, Ritesh!\n",
        "\n",
        "  A method is a function that's part of a class. It is defined within the class's body and is designed to operate on the data and properties of the class's instances.\n",
        "\n",
        "  # Method example\n",
        "\n",
        "text = \"hello world\"\n",
        "\n",
        "print(text.upper()) # Calling a method belonging to string object\n",
        "\n",
        "\n",
        "# Output: HELLO WORLD\n",
        "\n",
        "2. Explain the concept of function arguments and parameters in Python.\n",
        "\n",
        "-> Parameters are the names of the variables listed inside the parentheses in a function's definition. They act as placeholders for the values that a function expects to receive when it's called.\n",
        "\n",
        "Example:\n",
        "\n",
        "In the function def add(a, b):, a and b are the parameters. They define what the function needs to perform its task.\n",
        "\n",
        "Arguments are the actual values passed to the function when it is called. The values of the arguments are assigned to the corresponding parameters inside the function.\n",
        "\n",
        "Example:\n",
        "In the function call add(5, 3), 5 and 3 are the arguments. The value 5 is passed to the parameter a, and the value 3 is passed to the parameter b.\n",
        "\n",
        "\n",
        "3.What are the different ways to define and call a function in Python?\n",
        "\n",
        "-> Explanation:\n",
        "\n",
        "Functions are reusable blocks of code that perform a specific task. In Python, you can\n",
        "define and call functions in multiple ways:\n",
        "\n",
        "1. Standard function ( def )\n",
        "\n",
        "Defined using the def keyword.\n",
        "Can accept parameters and return values.\n",
        "\n",
        "2. Lambda function\n",
        "\n",
        "Also called an anonymous function.\n",
        "\n",
        "Defined using lambda keyword, usually for simple, single-line tasks.\n",
        "\n",
        "3. Nested function\n",
        "\n",
        "A function defined inside another function.\n",
        "\n",
        "Useful for encapsulation and keeping helper functions local to the outer function.\n",
        "\n",
        "Calling a function involves using its name followed by parentheses () .\n",
        "\n",
        "Arguments can be passed when calling functions to provide input values.\n",
        "\n",
        "Examples:\n",
        "\n",
        "# 1. Standard function\n",
        "\n",
        "def greet(name):\n",
        "\n",
        "return f\"Hello {name}!\"\n",
        "\n",
        "print(greet(\"Ritesh\")) # Calling standard function\n",
        "\n",
        "# Output: Hello Ritesh!\n",
        "\n",
        "# 2. Lambda function\n",
        "\n",
        "square = lambda x: x**2\n",
        "\n",
        "print(square(5)) # Calling lambda function\n",
        "\n",
        "# Output: 25\n",
        "\n",
        "# 3. Nested function\n",
        "\n",
        "def outer():\n",
        "\n",
        "def inner():\n",
        "\n",
        "return \"This is a nested function\"\n",
        "\n",
        "return inner() # Calling inner function inside outer\n",
        "\n",
        "print(outer()) # Output: This is a nested function\n",
        "\n",
        "\n",
        " 4. What is the purpose of the `return` statement in a Python function?\n",
        "\n",
        "-> The return statement in a Python function exits the function and sends a value back to the code that called it.\n",
        "\n",
        "The main purpose of the return statement is to make the result of a function available for use in other parts of a program. A function can perform a series of operations, and the return statement provides the final outcome of those operations.\n",
        "\n",
        "For example, a function that calculates the sum of two numbers uses return to pass the result back:\n",
        "\n",
        "def add_numbers(a, b):\n",
        "    sum = a + b\n",
        "    return sum  # The value of 'sum' is returned\n",
        "\n",
        "# The returned value (10) is assigned to the variable 'result'\n",
        "result = add_numbers(7, 3)\n",
        "print(result)  # Output: 10\n",
        "\n",
        "A return statement can also be used to terminate a function's execution prematurely. When a return is encountered, the function stops immediately, and no further code within it is executed. This is useful for handling specific conditions, such as invalid input.\n",
        "\n",
        "def check_age(age):\n",
        "    if age < 0:\n",
        "        return \"Age cannot be a negative number.\"  # Exits the function early\n",
        "    \n",
        "    # This line will only be reached if the age is not negative\n",
        "    return f\"You are {age} years old.\"\n",
        "\n",
        "print(check_age(-5)) # Output: Age cannot be a negative number.\n",
        "\n",
        "If a function does not have an explicit return statement, it will implicitly return the special value None. This is a built-in Python object that represents the absence of a value. Functions that only perform actions, like printing to the console, but don't produce a value to be used elsewhere, will return None by default.\n",
        "\n",
        "def greet(name):\n",
        "    print(f\"Hello, {name}!\")\n",
        "\n",
        "result = greet(\"Alice\")\n",
        "print(result) # Output:\n",
        "# Hello, Alice!\n",
        "# None\n",
        "\n",
        "\n",
        "5. What are iterators in Python and how do they differ\n",
        "from iterables?\n",
        "\n",
        "-> Explanation:\n",
        "\n",
        "Iterable:\n",
        " Any Python object capable of returning its elements one by one, e.g., list ,tuple , string , set , or dictionary .\n",
        "\n",
        "You can loop over it using a for loop.\n",
        "\n",
        "Iterator:\n",
        "An object that produces elements one at a time and keeps track of its current position.\n",
        "\n",
        "Created from an iterable using the iter() function.\n",
        "\n",
        "Use next() to access elements individually.\n",
        "\n",
        "6. Explain the concept of generators in Python and how\n",
        "they are defined.\n",
        "\n",
        "-> Explanation:\n",
        "\n",
        "Generators are special iterators that generate values on the fly instead of storing them in memory.\n",
        "\n",
        "They are memory-efficient and useful for large datasets or streams of data\n",
        ".\n",
        "Generators are defined in two main ways:\n",
        "\n",
        "1. Using a function with the yield statement.\n",
        "\n",
        "2. Using generator expressions (similar to list comprehensions but with parentheses).\n",
        "\n",
        "Each call to next() on a generator produces the next value until the generator is\n",
        "exhausted.\n",
        "\n",
        "Example using yield :\n",
        "\n",
        "# Generator function\n",
        "\n",
        "def greet_generator(names):\n",
        "\n",
        "for name in names:\n",
        "\n",
        "yield f\"Hello {name}!\"\n",
        "\n",
        "names_list = [\"Ritesh\", \"Alex\", \"Maya\"]\n",
        "\n",
        "# Create generator\n",
        "\n",
        "gen = greet_generator(names_list)\n",
        "\n",
        "# Access values one by one\n",
        "\n",
        "print(next(gen)) # Output: Hello Ritesh!\n",
        "\n",
        "print(next(gen)) # Output: Hello Alex!\n",
        "\n",
        "print(next(gen)) # Output: Hello Maya!\n",
        "\n",
        "Example using generator expression:\n",
        "\n",
        "# Generator expression\n",
        "\n",
        "squares = (x**2 for x in range(1, 4))\n",
        "\n",
        "print(next(squares)) # Output: 1\n",
        "\n",
        "print(next(squares)) # Output: 4\n",
        "\n",
        "print(next(squares)) # Output: 9\n",
        "\n",
        "7. What are the advantages of using generators over\n",
        "regular functions?\n",
        "\n",
        "->Explanation:\n",
        "\n",
        "Generators provide several advantages over regular functions that return lists:\n",
        "\n",
        "1. Memory Efficiency\n",
        "\n",
        "Generators produce values one at a time and do not store the entire sequence in memory.\n",
        "\n",
        "Useful for large datasets.\n",
        "\n",
        "2. Lazy Evaluation Values are computed only when needed using next() .\n",
        "\n",
        "Reduces unnecessary computations.\n",
        "\n",
        "3. Represent Infinite Sequences Generators can model infinite series (like Fibonacci numbers) which is impossible with lists.\n",
        "\n",
        "4. Pipeline Processing\n",
        "\n",
        "Generators can be chained together to create pipelines, processing data efficiently.\n",
        "\n",
        "Example:\n",
        "\n",
        "# Generator function\n",
        "\n",
        "def greet_generator(names):\n",
        "\n",
        "for name in names:\n",
        "\n",
        "yield f\"Hello {name}!\"\n",
        "\n",
        "names_list = [\"Ritesh\", \"Alex\", \"Maya\"]\n",
        "\n",
        "gen = greet_generator(names_list)\n",
        "\n",
        "print(next(gen)) # Output: Hello Ritesh!\n",
        "\n",
        "print(next(gen)) # Output: Hello Alex!\n",
        "\n",
        "print(next(gen)) # Output: Hello Maya!\n",
        "\n",
        "# Memory efficiency demonstration\n",
        "\n",
        "numbers = (x**2 for x in range(1, 1000000)) # Generator for 1 million squares\n",
        "\n",
        "print(next(numbers)) # Output: 1\n",
        "\n",
        "print(next(numbers)) # Output: 4\n",
        "\n",
        "print(next(numbers)) # Output: 9\n",
        "\n",
        "8.What is a lambda function in Python and when is it\n",
        "typically used?\n",
        "\n",
        "-> Explanation:\n",
        "\n",
        "Lambda functions are anonymous, one-line functions in Python that do not require a formal def block.\n",
        "\n",
        "They are defined using the lambda keyword, followed by arguments and a single expression.\n",
        "\n",
        "Lambda functions are commonly used when you need a small, temporary function without cluttering your code.\n",
        "\n",
        "Typical use cases include functional programming, inline operations, and passing functions as arguments to higher-order functions like map() , filter() , or sorted() .\n",
        "\n",
        "Advantages: concise, readable for small operations, and memory-efficient since they don’t require a full function definition.\n",
        "\n",
        "Characteristics & Usage:\n",
        "\n",
        "Concise — Perfect for small, one-off operations.\n",
        "\n",
        "Inline — Can be defined and used in a single line.\n",
        "\n",
        "Functional programming — Ideal for passing as arguments to functions like map() ,filter() , or reduce() .'\n",
        "\n",
        "Single expression only — Cannot contain multiple statements or complex logic.\n",
        "\n",
        "Temporary & lightweight — Great for quick tasks without cluttering your code with full function definitions.\n",
        "\n",
        "9. Explain the purpose and usage of the map() function\n",
        "in Python.\n",
        "\n",
        "-> Explanation:\n",
        "\n",
        "The map() function applies a given function to each item of an iterable (like a list, tuple,etc.) and returns a map object, which is an iterator.\n",
        "\n",
        "Useful when you want to perform the same operation on multiple items without using a loop.\n",
        "\n",
        "Lazy evaluation: the values are computed only when iterated, saving memory for large datasets.\n",
        "\n",
        "Common Uses of map() :\n",
        "\n",
        "Transforming all elements in a list/tuple without using a loop.\n",
        "\n",
        "Applying mathematical operations to all elements.\n",
        "Preprocessing or cleaning data in bulk, e.g., converting strings to uppercase.\n",
        "\n",
        "Chaining with filter() or reduce() for functional programming pipelines.\n",
        "\n",
        "Syntax:\n",
        "\n",
        "map(function, iterable)\n",
        "\n",
        "Example 1: Basic map with a named function\n",
        "\n",
        "# Function to greet a person\n",
        "\n",
        "def greet(name):\n",
        "\n",
        "return f\"Hello {name}!\"\n",
        "\n",
        "names = [\"Ritesh\", \"Alex\", \"Maya\"]\n",
        "\n",
        "# Apply greet function to each name\n",
        "\n",
        "greetings = map(greet, names)\n",
        "\n",
        "# Convert to list and print\n",
        "\n",
        "print(list(greetings))\n",
        "\n",
        "# Output: ['Hello Ritesh!', 'Hello Alex!', 'Hello Maya!']\n",
        "\n",
        "Example 2: map with lambda function\n",
        "\n",
        "numbers = [1, 2, 3, 4, 5]\n",
        "\n",
        "# Square each number using lambda and map\n",
        "\n",
        "squared = map(lambda x: x**2, numbers)\n",
        "\n",
        "print(list(squared))\n",
        "\n",
        "# Output: [1, 4, 9, 16, 25]\n",
        "\n",
        "Example 3: map with multiple iterables\n",
        "\n",
        "numbers1 = [1, 2, 3]\n",
        "\n",
        "numbers2 = [4, 5, 6]\n",
        "\n",
        "# Add corresponding elements from two lists\n",
        "\n",
        "sum_list = map(lambda x, y: x + y, numbers1, numbers2)\n",
        "\n",
        "print(list(sum_list))\n",
        "\n",
        "# Output: [5, 7, 9]\n",
        "\n",
        "10.What is the difference between map(), reduce(),\n",
        "and filter() functions in Python?\n",
        "\n",
        "-> The map(), reduce(), and filter() functions in Python are all higher-order functions used to process iterables like lists. They differ in what they do with the elements.\n",
        "\n",
        "map() applies a given function to every item in an iterable and returns a map object (an iterator) that yields the results. It's used when you want to transform each element of an iterable.\n",
        "\n",
        "Syntax: map(function, iterable)\n",
        "\n",
        "Purpose: To apply a transformation to each item.\n",
        "\n",
        "Example: Doubling each number in a list.\n",
        "\n",
        "Python\n",
        "\n",
        "numbers = [1, 2, 3, 4]'\n",
        "\n",
        "doubled = map(lambda x: x * 2, numbers)\n",
        "\n",
        "print(list(doubled))\n",
        "\n",
        "# Output: [2, 4, 6, 8]\n",
        "\n",
        "filter() constructs an iterator from elements of an iterable for which a function returns true. It's used when you want to select or filter out elements based on a condition.\n",
        "\n",
        "Syntax: filter(function, iterable)\n",
        "\n",
        "Purpose: To select items that satisfy a condition.\n",
        "\n",
        "Example: Getting only the even numbers from a list.\n",
        "\n",
        "Python\n",
        "\n",
        "numbers = [1, 2, 3, 4, 5, 6]\n",
        "\n",
        "evens = filter(lambda x: x % 2 == 0, numbers)\n",
        "\n",
        "print(list(evens))\n",
        "\n",
        "# Output: [2, 4, 6]\n",
        "\n",
        "reduce() applies a rolling computation to a sequence of elements. It processes the first two elements, then the result and the next element, and so on, until a single value is returned. It's used when you want to aggregate an iterable into a single result. It's part of the functools module, so it must be imported.\n",
        "\n",
        "Syntax: reduce(function, iterable, [initializer])\n",
        "\n",
        "Purpose: To combine items into a single value.\n",
        "\n",
        "Example: Finding the sum of all numbers in a list.\n",
        "\n",
        "Python\n",
        "\n",
        "from functools import reduce\n",
        "\n",
        "numbers = [1, 2, 3, 4]\n",
        "\n",
        "total = reduce(lambda x, y: x + y, numbers)\n",
        "\n",
        "print(total)\n",
        "\n",
        "# Output: 10\n",
        "\n",
        "\n",
        "\n",
        "\n",
        "\n",
        "\n",
        "\n",
        "\n",
        "\n",
        "\n",
        "\n",
        "\n",
        "\n",
        "\n",
        "\n",
        "\n",
        "\n",
        "\n",
        "\n"
      ],
      "metadata": {
        "id": "0gxJx82FAZ52"
      }
    },
    {
      "cell_type": "code",
      "source": [],
      "metadata": {
        "id": "Dd581eXYBhXn"
      },
      "execution_count": null,
      "outputs": []
    },
    {
      "cell_type": "markdown",
      "source": [
        "11. Using pen & Paper write the internal mechanism for\n",
        "sum operation using reduce function on this given list:\n",
        "[47,11,42,13]; (Attach paper image for this answer) in doc or collab notebook\n",
        "\n",
        "->Reduce function\n",
        "  syn: reduce(func,iterable)\n",
        "\n",
        "  Ex:\n",
        "  list = [47,11,42,13]\n",
        "\n",
        "# using reduce function\n",
        "\n",
        "  s= reduce (lambda x,y: x+y, lst)\n",
        "\n",
        "print (s)              # output: 113\n",
        "\n",
        "Note: The reduce give cummulative sum of overall sum of the list element.\n",
        "\n",
        "Internal mechanism\n",
        "\n",
        "Step1:  (47,11,42,13)\n",
        "\n",
        "          !  !\n",
        "\n",
        "          x  y\n",
        "\n",
        "          [58,42,13)          As (x+y)\n",
        "\n",
        " step 2 : [58,42,13]\n",
        "\n",
        "           !   !\n",
        "           x   y\n",
        "          [100,13]            As (x+y)\n",
        "\n",
        " step 3    [100,13]\n",
        "\n",
        "             !   !\n",
        "             x    y\n",
        "\n",
        "             113--- as output               "
      ],
      "metadata": {
        "id": "SY1Gu5iOrF0u"
      }
    },
    {
      "cell_type": "code",
      "source": [
        "# Practical Questions:\n",
        "\n",
        "# Write a Python function that takes a list of numbers as input and returns the sum of all even numbers in the list.\n",
        "\n",
        "def sum_of_evens(nums):\n",
        "           return sum(n for n in nums if n % 2 == 0)\n",
        "\n",
        "print(sum_of_evens([1, 2, 3, 4, 5, 6, 7, 8]))\n"
      ],
      "metadata": {
        "colab": {
          "base_uri": "https://localhost:8080/"
        },
        "id": "4AdITA6oWUHj",
        "outputId": "c6164622-a248-47f3-9f41-b619763f66d8"
      },
      "execution_count": 18,
      "outputs": [
        {
          "output_type": "stream",
          "name": "stdout",
          "text": [
            "20\n"
          ]
        }
      ]
    },
    {
      "cell_type": "code",
      "source": [
        "# Create a Python function that accepts a string and returns the reverse of that string.\n",
        "\n",
        "def reverse_string(string):\n",
        "    return string[::-1]\n",
        "\n",
        "print(reverse_string(\"Ritesh\"))"
      ],
      "metadata": {
        "colab": {
          "base_uri": "https://localhost:8080/"
        },
        "id": "zMKDs9BKZpJo",
        "outputId": "3a885203-5307-414a-815f-e1d92b356f56"
      },
      "execution_count": 19,
      "outputs": [
        {
          "output_type": "stream",
          "name": "stdout",
          "text": [
            "hsetiR\n"
          ]
        }
      ]
    },
    {
      "cell_type": "code",
      "source": [
        "# Implement a Python function that takes a list of integers and returns a new list containing the squares ofeach number.\n",
        "\n",
        "def square_numbers(nums):\n",
        "    return [n**2 for n in nums]\n",
        "\n",
        "print(square_numbers([1, 2, 3, 4, 5]))"
      ],
      "metadata": {
        "colab": {
          "base_uri": "https://localhost:8080/"
        },
        "id": "OZw6l3idZ7Fm",
        "outputId": "fbffb1cc-8a04-40b9-acc8-a705f4ba8e18"
      },
      "execution_count": 20,
      "outputs": [
        {
          "output_type": "stream",
          "name": "stdout",
          "text": [
            "[1, 4, 9, 16, 25]\n"
          ]
        }
      ]
    },
    {
      "cell_type": "code",
      "source": [
        "#Write a Python function that checks if a given number is prime or not from 1 to 200.\n",
        "\n",
        "print(\"Prime numbers from 1 to 200:\")\n",
        "for number in range(1, 201):\n",
        "    if is_prime(number):\n",
        "        print(number, end=\" \")"
      ],
      "metadata": {
        "colab": {
          "base_uri": "https://localhost:8080/"
        },
        "id": "UhVzm35IaG9W",
        "outputId": "91779fe3-eaa6-417c-d638-8f234f25155e"
      },
      "execution_count": 40,
      "outputs": [
        {
          "output_type": "stream",
          "name": "stdout",
          "text": [
            "Prime numbers from 1 to 200:\n",
            "2 3 5 7 11 13 17 19 23 29 31 37 41 43 47 53 59 61 67 71 73 79 83 89 97 101 103 107 109 113 127 131 137 139 149 151 157 163 167 173 179 181 191 193 197 199 "
          ]
        }
      ]
    },
    {
      "cell_type": "code",
      "source": [
        "# Create an iterator class in Python that generates the Fibonacci sequence up to a specified number of terms.\n",
        "def fibonacci_generator(n_terms):\n",
        "\n",
        "    a, b = 0, 1  # Initialize the first two Fibonacci numbers\n",
        "    count = 0\n",
        "\n",
        "    while count < n_terms:\n",
        "        yield a  # Yield the current Fibonacci number\n",
        "        a, b = b, a + b  # Update to the next pair of Fibonacci numbers\n",
        "        count += 1\n",
        "\n",
        "fib_gen = fibonacci_generator(10)\n",
        "\n",
        "print(\"First 10 Fibonacci numbers:\")\n",
        "for num in fib_gen:\n",
        "    print(num, end=\" \")\n"
      ],
      "metadata": {
        "colab": {
          "base_uri": "https://localhost:8080/"
        },
        "id": "RTWHYPCTdowS",
        "outputId": "d99610c1-7901-4028-ba80-3ba13fccc33f"
      },
      "execution_count": 48,
      "outputs": [
        {
          "output_type": "stream",
          "name": "stdout",
          "text": [
            "First 10 Fibonacci numbers:\n",
            "0 1 1 2 3 5 8 13 21 34 "
          ]
        }
      ]
    },
    {
      "cell_type": "code",
      "source": [
        "# Write a generator function in Python that yields the powers of 2 up to a given exponent.\n",
        "\n",
        "def max_exponent(num):\n",
        "  for i in  range(0,num+1):\n",
        "    a=2**i\n",
        "    yield a\n",
        "\n",
        "\n",
        "num=int(input(\"Enter the power of exponent : \"))\n",
        "gen=max_exponent(num)\n",
        "\n",
        "for _ in range(num+1):\n",
        "    print(next(gen))"
      ],
      "metadata": {
        "colab": {
          "base_uri": "https://localhost:8080/"
        },
        "id": "jV38JEtshh1u",
        "outputId": "0cff6594-779e-48ab-844d-2f91c4cc3ce2"
      },
      "execution_count": 49,
      "outputs": [
        {
          "output_type": "stream",
          "name": "stdout",
          "text": [
            "Enter the power of exponent : 5\n",
            "1\n",
            "2\n",
            "4\n",
            "8\n",
            "16\n",
            "32\n"
          ]
        }
      ]
    },
    {
      "cell_type": "code",
      "source": [
        "# Implement a generator function that reads a file line by line and yields each line as a string.\n",
        "\n",
        "def read_lines(file_content):\n",
        "    for line in file_content:\n",
        "        yield line.strip()  # remove any extra spaces/newlines\n",
        "\n",
        "# Simulated file content as a list of strings\n",
        "file = [\n",
        "    \"This is the first line\\n\",\n",
        "    \"This is the second line\\n\",\n",
        "    \"This is the third line\\n\"\n",
        "]\n",
        "\n",
        "# Using the generator\n",
        "for line in read_lines(file):\n",
        "    print(line)\n"
      ],
      "metadata": {
        "colab": {
          "base_uri": "https://localhost:8080/"
        },
        "id": "Rlz_Qn7ghsx8",
        "outputId": "d8b38f48-bc6f-493c-b75c-b2b3366528a9"
      },
      "execution_count": 50,
      "outputs": [
        {
          "output_type": "stream",
          "name": "stdout",
          "text": [
            "This is the first line\n",
            "This is the second line\n",
            "This is the third line\n"
          ]
        }
      ]
    },
    {
      "cell_type": "code",
      "source": [
        "# Use a lambda function in Python to sort a list of tuples based on the second element of each tuple.\n",
        "\n",
        "data = [(1, 5), (3, 2), (2, 8), (4, 1)]\n",
        "# Sort based on second element using lambda\n",
        "sorted_list = sorted(data, key=lambda x: x[1])\n",
        "print(\"Original List:\", data)\n",
        "print(\"Sorted List:\", sorted_list)"
      ],
      "metadata": {
        "colab": {
          "base_uri": "https://localhost:8080/"
        },
        "id": "yxO7UW4oh0xM",
        "outputId": "5a0d1e82-57d1-435e-d59f-55d3be9917ac"
      },
      "execution_count": 51,
      "outputs": [
        {
          "output_type": "stream",
          "name": "stdout",
          "text": [
            "Original List: [(1, 5), (3, 2), (2, 8), (4, 1)]\n",
            "Sorted List: [(4, 1), (3, 2), (1, 5), (2, 8)]\n"
          ]
        }
      ]
    },
    {
      "cell_type": "code",
      "source": [
        "# Write a Python program that uses `map()` to convert a list of temperatures from Celsius to Fahrenheit.\n",
        "\n",
        "celsius = [0, 20, 37, 100]\n",
        "\n",
        "# Using map() with lambda\n",
        "fahrenheit = list(map(lambda c: (c * 9/5) + 32, celsius))\n",
        "\n",
        "# Output the result\n",
        "print(\"Celsius:   \", celsius)\n",
        "print(\"Fahrenheit:\", fahrenheit)\n",
        "\n",
        "\n"
      ],
      "metadata": {
        "colab": {
          "base_uri": "https://localhost:8080/"
        },
        "id": "eVUu1s6th8PM",
        "outputId": "411f238f-af8c-440b-bc23-951699c42c36"
      },
      "execution_count": 52,
      "outputs": [
        {
          "output_type": "stream",
          "name": "stdout",
          "text": [
            "Celsius:    [0, 20, 37, 100]\n",
            "Fahrenheit: [32.0, 68.0, 98.6, 212.0]\n"
          ]
        }
      ]
    },
    {
      "cell_type": "code",
      "source": [
        "# Create a Python program that uses `filter()` to remove all the vowels from a given string.\n",
        "\n",
        "string=input(\"enter the string :\")\n",
        "new_string=string.lower()\n",
        "\n",
        "vowels = ['a', 'e', 'i', 'o', 'u']\n",
        "filtered_string = ''.join(filter(lambda x: x not in vowels, new_string))\n",
        "\n",
        "print(\"Original string:\", string)\n",
        "print(\"Filtered string:\", filtered_string)"
      ],
      "metadata": {
        "colab": {
          "base_uri": "https://localhost:8080/"
        },
        "id": "hI-dvMs8iCBD",
        "outputId": "5f8fbc75-aae8-4894-b8fb-d94ffd4636e5"
      },
      "execution_count": 53,
      "outputs": [
        {
          "output_type": "stream",
          "name": "stdout",
          "text": [
            "enter the string :Hello\n",
            "Original string: Hello\n",
            "Filtered string: hll\n"
          ]
        }
      ]
    },
    {
      "cell_type": "code",
      "source": [
        "# Write a Python program, which returns a list with 2-tuples. Each tupleconsists of the order number and the product of the price per item and thequantity. The product should be increased by 10,- € if the value of the order issmaller than 100,00 €.Write a Python program using lambda and map.\n",
        "\n",
        "def process_orders(orders):\n",
        "    processed_orders = list(map(\n",
        "        lambda order: (order[0],(order[2] * order[3]) + 10 if order[0] < 100000 else (order[2] * order[3])),orders))\n",
        "    return processed_orders\n",
        "\n",
        "# Example data from the image\n",
        "book_orders = [\n",
        "    [34587, \"Learning Python, Mark Lutz\", 4, 40.95],\n",
        "    [98762, \"Programming Python, Mark Lutz\", 5, 56.80],\n",
        "    [77226, \"Head First Python, Paul Barry\", 3, 32.95],\n",
        "    [88112, \"Einführung in Python3, Bernd Klein\", 3, 24.99]\n",
        "]\n",
        "\n",
        "# Get the processed orders\n",
        "final_list = process_orders(book_orders)\n",
        "\n",
        "# Print the result\n",
        "print(\"(Oder number , total price(Quantity* price)):\",final_list)"
      ],
      "metadata": {
        "colab": {
          "base_uri": "https://localhost:8080/"
        },
        "id": "fpRV-SHTiMPu",
        "outputId": "18383a0b-3bfd-472f-e6f1-3c5ef6c241fb"
      },
      "execution_count": 57,
      "outputs": [
        {
          "output_type": "stream",
          "name": "stdout",
          "text": [
            "(Oder number , total price(Quantity* price)): [(34587, 173.8), (98762, 294.0), (77226, 108.85000000000001), (88112, 84.97)]\n"
          ]
        }
      ]
    }
  ]
}